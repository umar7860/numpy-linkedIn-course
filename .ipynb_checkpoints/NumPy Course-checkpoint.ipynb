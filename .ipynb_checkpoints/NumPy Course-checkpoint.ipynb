{
 "cells": [
  {
   "cell_type": "code",
   "execution_count": 3,
   "id": "d4297aaf",
   "metadata": {},
   "outputs": [
    {
     "name": "stdout",
     "output_type": "stream",
     "text": [
      "Enter radius of a sphere:2\n",
      "Volume of the sphere will be  33.51\n"
     ]
    }
   ],
   "source": [
    "import math\n",
    "radius = float(input(\"Enter radius of a sphere:\"))\n",
    "volume= (4/3) * math.pi *pow(radius,3)\n",
    "print(\"Volume of the sphere will be  %.2f\" %volume)"
   ]
  },
  {
   "cell_type": "code",
   "execution_count": 7,
   "id": "ef1fc280",
   "metadata": {},
   "outputs": [
    {
     "name": "stdout",
     "output_type": "stream",
     "text": [
      "Enter Number 1:2\n",
      "Enter Number 2:2\n",
      "Add =  4.0\n",
      "Sub =  0.0\n",
      "Div =  1.0\n",
      "Mul =  4.0\n"
     ]
    }
   ],
   "source": [
    "number_1 = float(input(\"Enter Number 1:\"))\n",
    "number_2 = float(input(\"Enter Number 2:\"))\n",
    "add = number_1 + number_2\n",
    "sub = number_1 - number_2\n",
    "div = number_1 / number_2\n",
    "mul = number_1 * number_2\n",
    "\n",
    "print(\"Add = \",add)\n",
    "print(\"Sub = \",sub)\n",
    "print(\"Div = \",div)\n",
    "print(\"Mul = \",mul)"
   ]
  },
  {
   "cell_type": "code",
   "execution_count": 8,
   "id": "8f9b2ad1",
   "metadata": {},
   "outputs": [
    {
     "name": "stdout",
     "output_type": "stream",
     "text": [
      "Enter the temperature in Celsius:37\n",
      "Temperature in Fahrenheit is  98.60000000000001\n"
     ]
    }
   ],
   "source": [
    "temp = float(input(\"Enter the temperature in Celsius:\"))\n",
    "temp_in_fahrenheit = (temp * (9 / 5)) + 32\n",
    "print(\"Temperature in Fahrenheit is \",temp_in_fahrenheit)\n"
   ]
  },
  {
   "cell_type": "code",
   "execution_count": 3,
   "id": "21173e76",
   "metadata": {},
   "outputs": [],
   "source": [
    "####Importing numpy module\n",
    "\n",
    "import numpy as np\n"
   ]
  },
  {
   "cell_type": "code",
   "execution_count": 4,
   "id": "40560ded",
   "metadata": {},
   "outputs": [
    {
     "name": "stdout",
     "output_type": "stream",
     "text": [
      "[10 20 30 40 50]\n"
     ]
    }
   ],
   "source": [
    "integer = np.array([10,20,30,40,50])\n",
    "print(integer)"
   ]
  },
  {
   "cell_type": "code",
   "execution_count": 8,
   "id": "3f4210e1",
   "metadata": {},
   "outputs": [
    {
     "data": {
      "text/plain": [
       "30"
      ]
     },
     "execution_count": 8,
     "metadata": {},
     "output_type": "execute_result"
    }
   ],
   "source": [
    "integer[2]"
   ]
  },
  {
   "cell_type": "code",
   "execution_count": 10,
   "id": "f86440e8",
   "metadata": {},
   "outputs": [
    {
     "data": {
      "text/plain": [
       "20"
      ]
     },
     "execution_count": 10,
     "metadata": {},
     "output_type": "execute_result"
    }
   ],
   "source": [
    "integer[0] = 20\n",
    "integer[0]"
   ]
  },
  {
   "cell_type": "code",
   "execution_count": 11,
   "id": "ad47c2c0",
   "metadata": {},
   "outputs": [
    {
     "data": {
      "text/plain": [
       "29"
      ]
     },
     "execution_count": 11,
     "metadata": {},
     "output_type": "execute_result"
    }
   ],
   "source": [
    "#Decimal number will be turancating the number because\n",
    "#numpy array store same data type elements\n",
    "\n",
    "\n",
    "integer[0] = 29.5\n",
    "integer[0]"
   ]
  },
  {
   "cell_type": "code",
   "execution_count": 12,
   "id": "1e8db0a6",
   "metadata": {},
   "outputs": [
    {
     "data": {
      "text/plain": [
       "dtype('int32')"
      ]
     },
     "execution_count": 12,
     "metadata": {},
     "output_type": "execute_result"
    }
   ],
   "source": [
    "#we can check data type of numpy array like this\n",
    "\n",
    "integer.dtype"
   ]
  },
  {
   "cell_type": "code",
   "execution_count": 16,
   "id": "5238de4b",
   "metadata": {},
   "outputs": [
    {
     "data": {
      "text/plain": [
       "array([29, 20, 30, 40, 50], dtype=int8)"
      ]
     },
     "execution_count": 16,
     "metadata": {},
     "output_type": "execute_result"
    }
   ],
   "source": [
    "smallInt = np.array(integer,dtype = np.int8)\n",
    "smallInt\n"
   ]
  },
  {
   "cell_type": "code",
   "execution_count": 18,
   "id": "92426296",
   "metadata": {},
   "outputs": [
    {
     "data": {
      "text/plain": [
       "dtype('int8')"
      ]
     },
     "execution_count": 18,
     "metadata": {},
     "output_type": "execute_result"
    }
   ],
   "source": [
    "smallInt.dtype\n"
   ]
  },
  {
   "cell_type": "code",
   "execution_count": 24,
   "id": "cf584bc0",
   "metadata": {},
   "outputs": [
    {
     "name": "stdout",
     "output_type": "stream",
     "text": [
      "Intger array size: 20\n",
      "Small array size: 5\n"
     ]
    }
   ],
   "source": [
    "#For checking array size \n",
    "\n",
    "print(\"Intger array size: {}\".format(integer.nbytes))\n",
    "print(\"Small array size: {}\".format(smallInt.nbytes))"
   ]
  },
  {
   "cell_type": "code",
   "execution_count": 27,
   "id": "4b2f8858",
   "metadata": {},
   "outputs": [
    {
     "data": {
      "text/plain": [
       "dtype('float64')"
      ]
     },
     "execution_count": 27,
     "metadata": {},
     "output_type": "execute_result"
    }
   ],
   "source": [
    "floatArray = np.array([1.1,2.3,4.5,5.6])\n",
    "floatArray.dtype"
   ]
  },
  {
   "cell_type": "code",
   "execution_count": 32,
   "id": "ebc514c7",
   "metadata": {},
   "outputs": [
    {
     "data": {
      "text/plain": [
       "array([[ 1,  2,  3,  4,  5],\n",
       "       [ 6,  7,  8,  9, 10]])"
      ]
     },
     "execution_count": 32,
     "metadata": {},
     "output_type": "execute_result"
    }
   ],
   "source": [
    "#Multidimensional Array...\n",
    "array2D = np.array([[1,2,3,4,5],[6,7,8,9,10]])\n",
    "array2D"
   ]
  },
  {
   "cell_type": "code",
   "execution_count": 33,
   "id": "aac85738",
   "metadata": {},
   "outputs": [
    {
     "data": {
      "text/plain": [
       "1"
      ]
     },
     "execution_count": 33,
     "metadata": {},
     "output_type": "execute_result"
    }
   ],
   "source": [
    "array2D[0,0]"
   ]
  },
  {
   "cell_type": "code",
   "execution_count": 34,
   "id": "8f735c91",
   "metadata": {},
   "outputs": [
    {
     "data": {
      "text/plain": [
       "10"
      ]
     },
     "execution_count": 34,
     "metadata": {},
     "output_type": "execute_result"
    }
   ],
   "source": [
    "array2D[1,4]"
   ]
  },
  {
   "cell_type": "code",
   "execution_count": 35,
   "id": "921c369e",
   "metadata": {},
   "outputs": [
    {
     "data": {
      "text/plain": [
       "2"
      ]
     },
     "execution_count": 35,
     "metadata": {},
     "output_type": "execute_result"
    }
   ],
   "source": [
    "#for checking array dimensions\n",
    "array2D.ndim"
   ]
  },
  {
   "cell_type": "code",
   "execution_count": 60,
   "id": "106f893e",
   "metadata": {},
   "outputs": [],
   "source": [
    "#3 dimensions array\n",
    "\n",
    "multi_dimen = np.array([[[1,2,3],[4,5,6],[5,6,7]],[[1,2,3],[4,5,6],[5,6,7]]])"
   ]
  },
  {
   "cell_type": "code",
   "execution_count": 61,
   "id": "76d9485b",
   "metadata": {},
   "outputs": [
    {
     "data": {
      "text/plain": [
       "array([[[1, 2, 3],\n",
       "        [4, 5, 6],\n",
       "        [5, 6, 7]],\n",
       "\n",
       "       [[1, 2, 3],\n",
       "        [4, 5, 6],\n",
       "        [5, 6, 7]]])"
      ]
     },
     "execution_count": 61,
     "metadata": {},
     "output_type": "execute_result"
    }
   ],
   "source": [
    "multi_dimen"
   ]
  },
  {
   "cell_type": "code",
   "execution_count": 63,
   "id": "860ea35c",
   "metadata": {},
   "outputs": [
    {
     "data": {
      "text/plain": [
       "3"
      ]
     },
     "execution_count": 63,
     "metadata": {},
     "output_type": "execute_result"
    }
   ],
   "source": [
    "multi_dimen.ndim\n",
    "\n",
    "\n",
    "#Similary we can create 4 dim and upto so on...."
   ]
  },
  {
   "cell_type": "markdown",
   "id": "39e0edbf",
   "metadata": {},
   "source": [
    "# Creating arrays from lists and other Python strucutre"
   ]
  },
  {
   "cell_type": "code",
   "execution_count": 64,
   "id": "114015f4",
   "metadata": {},
   "outputs": [
    {
     "data": {
      "text/plain": [
       "[1, 2, 3, 4, 5, 6, 7, 8, 9, 10]"
      ]
     },
     "execution_count": 64,
     "metadata": {},
     "output_type": "execute_result"
    }
   ],
   "source": [
    "first_list = [1,2,3,4,5,6,7,8,9,10]\n",
    "first_list"
   ]
  },
  {
   "cell_type": "code",
   "execution_count": 67,
   "id": "f0e135a0",
   "metadata": {},
   "outputs": [
    {
     "data": {
      "text/plain": [
       "array([ 1,  2,  3,  4,  5,  6,  7,  8,  9, 10])"
      ]
     },
     "execution_count": 67,
     "metadata": {},
     "output_type": "execute_result"
    }
   ],
   "source": [
    "first_array = np.array(first_list)\n",
    "first_array"
   ]
  },
  {
   "cell_type": "code",
   "execution_count": 69,
   "id": "46e872e3",
   "metadata": {},
   "outputs": [
    {
     "data": {
      "text/plain": [
       "40"
      ]
     },
     "execution_count": 69,
     "metadata": {},
     "output_type": "execute_result"
    }
   ],
   "source": [
    "first_array.nbytes"
   ]
  },
  {
   "cell_type": "code",
   "execution_count": 70,
   "id": "e3f88113",
   "metadata": {},
   "outputs": [],
   "source": [
    "second_list = [1,2,3,-1.23,50,12800,4.56]"
   ]
  },
  {
   "cell_type": "code",
   "execution_count": 72,
   "id": "e97ac960",
   "metadata": {},
   "outputs": [
    {
     "data": {
      "text/plain": [
       "[1, 2, 3, -1.23, 50, 12800, 4.56]"
      ]
     },
     "execution_count": 72,
     "metadata": {},
     "output_type": "execute_result"
    }
   ],
   "source": [
    "second_array = np.array(second_list)\n",
    "second_list"
   ]
  },
  {
   "cell_type": "code",
   "execution_count": 74,
   "id": "570aa126",
   "metadata": {},
   "outputs": [
    {
     "data": {
      "text/plain": [
       "dtype('float64')"
      ]
     },
     "execution_count": 74,
     "metadata": {},
     "output_type": "execute_result"
    }
   ],
   "source": [
    "second_array.dtype"
   ]
  },
  {
   "cell_type": "code",
   "execution_count": 75,
   "id": "f5684b30",
   "metadata": {},
   "outputs": [
    {
     "data": {
      "text/plain": [
       "[123, 'Umar', 234, 'Ali']"
      ]
     },
     "execution_count": 75,
     "metadata": {},
     "output_type": "execute_result"
    }
   ],
   "source": [
    "third_list = [123,'Umar',234,'Ali']\n",
    "third_list"
   ]
  },
  {
   "cell_type": "code",
   "execution_count": 77,
   "id": "961b8882",
   "metadata": {},
   "outputs": [
    {
     "data": {
      "text/plain": [
       "array(['123', 'Umar', '234', 'Ali'], dtype='<U11')"
      ]
     },
     "execution_count": 77,
     "metadata": {},
     "output_type": "execute_result"
    }
   ],
   "source": [
    "third_array = np.array(third_list)\n",
    "third_array"
   ]
  },
  {
   "cell_type": "code",
   "execution_count": 78,
   "id": "cbf4a200",
   "metadata": {},
   "outputs": [
    {
     "data": {
      "text/plain": [
       "dtype('<U11')"
      ]
     },
     "execution_count": 78,
     "metadata": {},
     "output_type": "execute_result"
    }
   ],
   "source": [
    "third_array.dtype"
   ]
  },
  {
   "cell_type": "code",
   "execution_count": 79,
   "id": "87c836ad",
   "metadata": {},
   "outputs": [],
   "source": [
    "#creating lists from tuples\n",
    "tuple_01 = (1,2,3,4,5)\n",
    "array_from_tuple = np.array(tuple_01)"
   ]
  },
  {
   "cell_type": "code",
   "execution_count": 80,
   "id": "acaac287",
   "metadata": {},
   "outputs": [
    {
     "data": {
      "text/plain": [
       "array([1, 2, 3, 4, 5])"
      ]
     },
     "execution_count": 80,
     "metadata": {},
     "output_type": "execute_result"
    }
   ],
   "source": [
    "array_from_tuple"
   ]
  },
  {
   "cell_type": "code",
   "execution_count": 81,
   "id": "36f0589b",
   "metadata": {},
   "outputs": [
    {
     "data": {
      "text/plain": [
       "dtype('int32')"
      ]
     },
     "execution_count": 81,
     "metadata": {},
     "output_type": "execute_result"
    }
   ],
   "source": [
    "array_from_tuple.dtype"
   ]
  },
  {
   "cell_type": "code",
   "execution_count": 82,
   "id": "f36a38da",
   "metadata": {},
   "outputs": [
    {
     "data": {
      "text/plain": [
       "array([[[1, 2, 3],\n",
       "        [4, 5, 6],\n",
       "        [5, 6, 7]],\n",
       "\n",
       "       [[1, 2, 3],\n",
       "        [4, 5, 6],\n",
       "        [5, 6, 7]]])"
      ]
     },
     "execution_count": 82,
     "metadata": {},
     "output_type": "execute_result"
    }
   ],
   "source": [
    "###creating array from list of lists\n",
    "multiDimList = np.array([[[1,2,3],[4,5,6],[5,6,7]],[[1,2,3],[4,5,6],[5,6,7]]])\n",
    "multiDimList"
   ]
  },
  {
   "cell_type": "code",
   "execution_count": 83,
   "id": "94ba7706",
   "metadata": {},
   "outputs": [],
   "source": [
    "array_from_multiDimList = np.array(multiDimList)"
   ]
  },
  {
   "cell_type": "code",
   "execution_count": 84,
   "id": "70452db9",
   "metadata": {},
   "outputs": [
    {
     "data": {
      "text/plain": [
       "array([[[1, 2, 3],\n",
       "        [4, 5, 6],\n",
       "        [5, 6, 7]],\n",
       "\n",
       "       [[1, 2, 3],\n",
       "        [4, 5, 6],\n",
       "        [5, 6, 7]]])"
      ]
     },
     "execution_count": 84,
     "metadata": {},
     "output_type": "execute_result"
    }
   ],
   "source": [
    "array_from_multiDimList\n"
   ]
  },
  {
   "cell_type": "code",
   "execution_count": 88,
   "id": "0a8e6360",
   "metadata": {},
   "outputs": [
    {
     "data": {
      "text/plain": [
       "dtype('int32')"
      ]
     },
     "execution_count": 88,
     "metadata": {},
     "output_type": "execute_result"
    }
   ],
   "source": [
    "array_from_multiDimList.dtype"
   ]
  },
  {
   "cell_type": "markdown",
   "id": "482a424b",
   "metadata": {},
   "source": [
    "# Intrisic NumpY array creation"
   ]
  },
  {
   "cell_type": "code",
   "execution_count": 91,
   "id": "8f235250",
   "metadata": {},
   "outputs": [
    {
     "data": {
      "text/plain": [
       "array([0, 1, 2, 3, 4, 5, 6, 7, 8, 9])"
      ]
     },
     "execution_count": 91,
     "metadata": {},
     "output_type": "execute_result"
    }
   ],
   "source": [
    "integers_array = np.arange(10)\n",
    "integers_array"
   ]
  },
  {
   "cell_type": "code",
   "execution_count": 93,
   "id": "95c18e2a",
   "metadata": {},
   "outputs": [
    {
     "data": {
      "text/plain": [
       "array([100, 101, 102, 103, 104, 105, 106, 107, 108, 109, 110, 111, 112,\n",
       "       113, 114, 115, 116, 117, 118, 119, 120, 121, 122, 123, 124, 125,\n",
       "       126, 127, 128, 129])"
      ]
     },
     "execution_count": 93,
     "metadata": {},
     "output_type": "execute_result"
    }
   ],
   "source": [
    "second_array = np.arange(100,130)\n",
    "new_array"
   ]
  },
  {
   "cell_type": "code",
   "execution_count": 94,
   "id": "a56e63c5",
   "metadata": {},
   "outputs": [
    {
     "data": {
      "text/plain": [
       "array([ 1,  3,  5,  7,  9, 11, 13, 15, 17, 19])"
      ]
     },
     "execution_count": 94,
     "metadata": {},
     "output_type": "execute_result"
    }
   ],
   "source": [
    "third_array = np.arange(1,20,2)\n",
    "third_array"
   ]
  },
  {
   "cell_type": "code",
   "execution_count": 95,
   "id": "26e93c24",
   "metadata": {},
   "outputs": [],
   "source": [
    "#for generating array of floating numbers\n",
    "#we will use linspace function"
   ]
  },
  {
   "cell_type": "code",
   "execution_count": 98,
   "id": "1867db7c",
   "metadata": {},
   "outputs": [
    {
     "data": {
      "text/plain": [
       "array([10.        , 10.20408163, 10.40816327, 10.6122449 , 10.81632653,\n",
       "       11.02040816, 11.2244898 , 11.42857143, 11.63265306, 11.83673469,\n",
       "       12.04081633, 12.24489796, 12.44897959, 12.65306122, 12.85714286,\n",
       "       13.06122449, 13.26530612, 13.46938776, 13.67346939, 13.87755102,\n",
       "       14.08163265, 14.28571429, 14.48979592, 14.69387755, 14.89795918,\n",
       "       15.10204082, 15.30612245, 15.51020408, 15.71428571, 15.91836735,\n",
       "       16.12244898, 16.32653061, 16.53061224, 16.73469388, 16.93877551,\n",
       "       17.14285714, 17.34693878, 17.55102041, 17.75510204, 17.95918367,\n",
       "       18.16326531, 18.36734694, 18.57142857, 18.7755102 , 18.97959184,\n",
       "       19.18367347, 19.3877551 , 19.59183673, 19.79591837, 20.        ])"
      ]
     },
     "execution_count": 98,
     "metadata": {},
     "output_type": "execute_result"
    }
   ],
   "source": [
    "frist_float_arrray = np.linspace(10,20)\n",
    "#by default it generate 50 sets\n",
    "frist_float_arrray"
   ]
  },
  {
   "cell_type": "code",
   "execution_count": 99,
   "id": "17396062",
   "metadata": {},
   "outputs": [
    {
     "data": {
      "text/plain": [
       "array([ 1.  ,  3.25,  5.5 ,  7.75, 10.  ])"
      ]
     },
     "execution_count": 99,
     "metadata": {},
     "output_type": "execute_result"
    }
   ],
   "source": [
    "second_float_array = np.linspace(1,10,5)\n",
    "second_float_array"
   ]
  },
  {
   "cell_type": "code",
   "execution_count": 100,
   "id": "11b6a82a",
   "metadata": {},
   "outputs": [],
   "source": [
    "#Array  of random numbers within given range"
   ]
  },
  {
   "cell_type": "code",
   "execution_count": 101,
   "id": "b08b6703",
   "metadata": {},
   "outputs": [
    {
     "data": {
      "text/plain": [
       "array([0.28340439, 0.60373475, 0.40746129, 0.16906717, 0.41435595,\n",
       "       0.88700979, 0.53145215, 0.29051312, 0.28146195, 0.09832402])"
      ]
     },
     "execution_count": 101,
     "metadata": {},
     "output_type": "execute_result"
    }
   ],
   "source": [
    "first_rand_arr = np.random.rand(10)\n",
    "first_rand_arr"
   ]
  },
  {
   "cell_type": "code",
   "execution_count": 102,
   "id": "0a0f5b99",
   "metadata": {},
   "outputs": [
    {
     "data": {
      "text/plain": [
       "array([[0.19285462, 0.29497103, 0.28429776, 0.72657427],\n",
       "       [0.74724927, 0.42972641, 0.79689073, 0.17409266],\n",
       "       [0.49279539, 0.49595439, 0.68404147, 0.34470862],\n",
       "       [0.41357361, 0.86252723, 0.13998805, 0.82786921]])"
      ]
     },
     "execution_count": 102,
     "metadata": {},
     "output_type": "execute_result"
    }
   ],
   "source": [
    "second_rand_arr = np.random.rand(4,4)\n",
    "second_rand_arr"
   ]
  },
  {
   "cell_type": "code",
   "execution_count": 103,
   "id": "a89e1b80",
   "metadata": {},
   "outputs": [],
   "source": [
    "#array of random int"
   ]
  },
  {
   "cell_type": "code",
   "execution_count": 104,
   "id": "c22144bf",
   "metadata": {},
   "outputs": [
    {
     "data": {
      "text/plain": [
       "array([49, 27, 19,  2, 63,  7, 28, 65, 26, 58, 50, 71, 17, 44, 43, 33, 92,\n",
       "       88,  2, 14])"
      ]
     },
     "execution_count": 104,
     "metadata": {},
     "output_type": "execute_result"
    }
   ],
   "source": [
    "int_rand_array = np.random.randint(0,100,20)\n",
    "int_rand_array"
   ]
  },
  {
   "cell_type": "markdown",
   "id": "bbbd7f6d",
   "metadata": {},
   "source": [
    "# Creating array with constant values"
   ]
  },
  {
   "cell_type": "code",
   "execution_count": 105,
   "id": "adc68908",
   "metadata": {},
   "outputs": [],
   "source": [
    "#we can create array of 0s by using numpy.zeros function"
   ]
  },
  {
   "cell_type": "code",
   "execution_count": 106,
   "id": "ff178d6b",
   "metadata": {},
   "outputs": [
    {
     "data": {
      "text/plain": [
       "array([0., 0., 0., 0., 0.])"
      ]
     },
     "execution_count": 106,
     "metadata": {},
     "output_type": "execute_result"
    }
   ],
   "source": [
    "first_z_arrays = np.zeros(5)\n",
    "first_z_arrays"
   ]
  },
  {
   "cell_type": "code",
   "execution_count": 108,
   "id": "ca33b39b",
   "metadata": {},
   "outputs": [
    {
     "data": {
      "text/plain": [
       "array([[0., 0., 0., 0., 0.],\n",
       "       [0., 0., 0., 0., 0.],\n",
       "       [0., 0., 0., 0., 0.],\n",
       "       [0., 0., 0., 0., 0.]])"
      ]
     },
     "execution_count": 108,
     "metadata": {},
     "output_type": "execute_result"
    }
   ],
   "source": [
    "second_z_array = np.zeros((4,5))\n",
    "second_z_array"
   ]
  },
  {
   "cell_type": "code",
   "execution_count": 109,
   "id": "604de123",
   "metadata": {},
   "outputs": [
    {
     "data": {
      "text/plain": [
       "array([1., 1., 1., 1., 1., 1.])"
      ]
     },
     "execution_count": 109,
     "metadata": {},
     "output_type": "execute_result"
    }
   ],
   "source": [
    "first_ones_array = np.ones(6)\n",
    "first_ones_array"
   ]
  },
  {
   "cell_type": "code",
   "execution_count": 110,
   "id": "37392a2d",
   "metadata": {},
   "outputs": [
    {
     "data": {
      "text/plain": [
       "array([[1., 1.],\n",
       "       [1., 1.]])"
      ]
     },
     "execution_count": 110,
     "metadata": {},
     "output_type": "execute_result"
    }
   ],
   "source": [
    "second_ones_arrays = np.ones((2,2))\n",
    "second_ones_arrays"
   ]
  },
  {
   "cell_type": "code",
   "execution_count": 111,
   "id": "dc9601c4",
   "metadata": {},
   "outputs": [],
   "source": [
    "#default data type is floating data"
   ]
  },
  {
   "cell_type": "code",
   "execution_count": 113,
   "id": "ad7051b2",
   "metadata": {},
   "outputs": [],
   "source": [
    "#converting data type"
   ]
  },
  {
   "cell_type": "code",
   "execution_count": 114,
   "id": "d1dffdee",
   "metadata": {},
   "outputs": [
    {
     "data": {
      "text/plain": [
       "array([[1, 1, 1, 1],\n",
       "       [1, 1, 1, 1],\n",
       "       [1, 1, 1, 1],\n",
       "       [1, 1, 1, 1]])"
      ]
     },
     "execution_count": 114,
     "metadata": {},
     "output_type": "execute_result"
    }
   ],
   "source": [
    "third_ones_array = np.ones((4,4),dtype = int)\n",
    "third_ones_array"
   ]
  },
  {
   "cell_type": "code",
   "execution_count": 115,
   "id": "f967d7f2",
   "metadata": {},
   "outputs": [],
   "source": [
    "#numpay.ndarray.fill \n",
    "#It creates one dimentional array\n",
    "#numpay.full\n",
    "#it creates both 1 and 2d array\n"
   ]
  },
  {
   "cell_type": "code",
   "execution_count": 117,
   "id": "1924e903",
   "metadata": {},
   "outputs": [
    {
     "data": {
      "text/plain": [
       "array([12, 12, 12, 12, 12, 12, 12, 12, 12, 12])"
      ]
     },
     "execution_count": 117,
     "metadata": {},
     "output_type": "execute_result"
    }
   ],
   "source": [
    "# numpy.empty function will create empty numpy array\n",
    "first_fill_array = np.empty(10,dtype = int)\n",
    "first_fill_array.fill(12)\n",
    "first_fill_array"
   ]
  },
  {
   "cell_type": "code",
   "execution_count": 118,
   "id": "e047c06f",
   "metadata": {},
   "outputs": [
    {
     "data": {
      "text/plain": [
       "array([10, 10, 10, 10, 10])"
      ]
     },
     "execution_count": 118,
     "metadata": {},
     "output_type": "execute_result"
    }
   ],
   "source": [
    "first_full_array = np.full(5,10)\n",
    "first_full_array"
   ]
  },
  {
   "cell_type": "code",
   "execution_count": 119,
   "id": "4b3caf05",
   "metadata": {},
   "outputs": [
    {
     "data": {
      "text/plain": [
       "array([[8, 8, 8, 8, 8, 8],\n",
       "       [8, 8, 8, 8, 8, 8],\n",
       "       [8, 8, 8, 8, 8, 8],\n",
       "       [8, 8, 8, 8, 8, 8]])"
      ]
     },
     "execution_count": 119,
     "metadata": {},
     "output_type": "execute_result"
    }
   ],
   "source": [
    "second_full_array = np.full((4,6),8)\n",
    "second_full_array"
   ]
  },
  {
   "cell_type": "code",
   "execution_count": null,
   "id": "34c04401",
   "metadata": {},
   "outputs": [],
   "source": []
  }
 ],
 "metadata": {
  "kernelspec": {
   "display_name": "Python 3",
   "language": "python",
   "name": "python3"
  },
  "language_info": {
   "codemirror_mode": {
    "name": "ipython",
    "version": 3
   },
   "file_extension": ".py",
   "mimetype": "text/x-python",
   "name": "python",
   "nbconvert_exporter": "python",
   "pygments_lexer": "ipython3",
   "version": "3.8.8"
  }
 },
 "nbformat": 4,
 "nbformat_minor": 5
}
