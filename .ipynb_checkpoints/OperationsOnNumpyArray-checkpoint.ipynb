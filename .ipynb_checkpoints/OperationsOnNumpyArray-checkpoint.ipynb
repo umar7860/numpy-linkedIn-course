{
 "cells": [
  {
   "cell_type": "markdown",
   "id": "c1f9f432",
   "metadata": {},
   "source": [
    "# Adding, Removing and sorting elements"
   ]
  },
  {
   "cell_type": "code",
   "execution_count": 1,
   "id": "963fd0cf",
   "metadata": {},
   "outputs": [],
   "source": [
    "import numpy as np"
   ]
  },
  {
   "cell_type": "code",
   "execution_count": 7,
   "id": "63fe1f9e",
   "metadata": {},
   "outputs": [
    {
     "data": {
      "text/plain": [
       "array([1, 2, 3, 5])"
      ]
     },
     "execution_count": 7,
     "metadata": {},
     "output_type": "execute_result"
    }
   ],
   "source": [
    "first_arr = np.array([1,2,3,5])\n",
    "first_arr"
   ]
  },
  {
   "cell_type": "code",
   "execution_count": 11,
   "id": "43b94fd8",
   "metadata": {},
   "outputs": [
    {
     "data": {
      "text/plain": [
       "array([1, 2, 3, 4, 5])"
      ]
     },
     "execution_count": 11,
     "metadata": {},
     "output_type": "execute_result"
    }
   ],
   "source": [
    "first_arr_new = np.insert(first_arr,3,4)\n",
    "first_arr_new"
   ]
  },
  {
   "cell_type": "code",
   "execution_count": 12,
   "id": "c89250c5",
   "metadata": {},
   "outputs": [
    {
     "data": {
      "text/plain": [
       "array([1, 2, 3, 4])"
      ]
     },
     "execution_count": 12,
     "metadata": {},
     "output_type": "execute_result"
    }
   ],
   "source": [
    "second_arr = np.array([1,2,3,4])\n",
    "second_arr"
   ]
  },
  {
   "cell_type": "code",
   "execution_count": 15,
   "id": "015e103a",
   "metadata": {},
   "outputs": [
    {
     "data": {
      "text/plain": [
       "array([1, 2, 3, 4, 5])"
      ]
     },
     "execution_count": 15,
     "metadata": {},
     "output_type": "execute_result"
    }
   ],
   "source": [
    "new_second_arr = np.append(second_arr,5)\n",
    "new_second_arr"
   ]
  },
  {
   "cell_type": "code",
   "execution_count": 16,
   "id": "ee7159b3",
   "metadata": {},
   "outputs": [
    {
     "data": {
      "text/plain": [
       "array([1, 2, 3, 5, 6, 4])"
      ]
     },
     "execution_count": 16,
     "metadata": {},
     "output_type": "execute_result"
    }
   ],
   "source": [
    "third_arr = np.array([1,2,3,5,6,4])\n",
    "third_arr"
   ]
  },
  {
   "cell_type": "code",
   "execution_count": 17,
   "id": "80049da9",
   "metadata": {},
   "outputs": [
    {
     "data": {
      "text/plain": [
       "array([1, 2, 3, 5, 4])"
      ]
     },
     "execution_count": 17,
     "metadata": {},
     "output_type": "execute_result"
    }
   ],
   "source": [
    "del_arr = np.delete(third_arr,4)\n",
    "del_arr"
   ]
  },
  {
   "cell_type": "code",
   "execution_count": 22,
   "id": "0a020286",
   "metadata": {},
   "outputs": [
    {
     "data": {
      "text/plain": [
       "array([ 0, 18, 10, 14, 15,  4, 19,  6,  2,  0,  8,  7, 19, 10,  9, 12,  0,\n",
       "       13, 13, 11])"
      ]
     },
     "execution_count": 22,
     "metadata": {},
     "output_type": "execute_result"
    }
   ],
   "source": [
    "one_dim_arr = np.random.randint(0,20,20)\n",
    "one_dim_arr"
   ]
  },
  {
   "cell_type": "code",
   "execution_count": 23,
   "id": "03952f2e",
   "metadata": {},
   "outputs": [
    {
     "data": {
      "text/plain": [
       "(20,)"
      ]
     },
     "execution_count": 23,
     "metadata": {},
     "output_type": "execute_result"
    }
   ],
   "source": [
    "one_dim_arr.shape"
   ]
  },
  {
   "cell_type": "code",
   "execution_count": 24,
   "id": "ef06761e",
   "metadata": {},
   "outputs": [],
   "source": [
    "int_two_dim_arr = np.array([[3,4,5,6,7],[3,6,8,9,0]])"
   ]
  },
  {
   "cell_type": "code",
   "execution_count": 26,
   "id": "dae3faaf",
   "metadata": {},
   "outputs": [
    {
     "data": {
      "text/plain": [
       "2"
      ]
     },
     "execution_count": 26,
     "metadata": {},
     "output_type": "execute_result"
    }
   ],
   "source": [
    "int_two_dim_arr.ndim"
   ]
  },
  {
   "cell_type": "code",
   "execution_count": 27,
   "id": "da8ddcc9",
   "metadata": {},
   "outputs": [
    {
     "name": "stdout",
     "output_type": "stream",
     "text": [
      "[ 0  0  0  2  4  6  7  8  9 10 10 11 12 13 13 14 15 18 19 19]\n"
     ]
    }
   ],
   "source": [
    "print(np.sort(one_dim_arr))"
   ]
  },
  {
   "cell_type": "code",
   "execution_count": 28,
   "id": "dd2b90b9",
   "metadata": {},
   "outputs": [
    {
     "name": "stdout",
     "output_type": "stream",
     "text": [
      "[[3 4 5 6 7]\n",
      " [0 3 6 8 9]]\n"
     ]
    }
   ],
   "source": [
    "print(np.sort(int_two_dim_arr))"
   ]
  },
  {
   "cell_type": "code",
   "execution_count": 29,
   "id": "291f89ca",
   "metadata": {},
   "outputs": [
    {
     "data": {
      "text/plain": [
       "array(['Orange', 'Yellow', 'Red', 'White', 'Black'], dtype='<U6')"
      ]
     },
     "execution_count": 29,
     "metadata": {},
     "output_type": "execute_result"
    }
   ],
   "source": [
    "string_arr = np.array(['Orange','Yellow','Red','White','Black'])\n",
    "string_arr"
   ]
  },
  {
   "cell_type": "code",
   "execution_count": 30,
   "id": "ab758e86",
   "metadata": {},
   "outputs": [
    {
     "name": "stdout",
     "output_type": "stream",
     "text": [
      "['Black' 'Orange' 'Red' 'White' 'Yellow']\n"
     ]
    }
   ],
   "source": [
    "print(np.sort(string_arr))"
   ]
  },
  {
   "cell_type": "markdown",
   "id": "cf7f8c99",
   "metadata": {},
   "source": [
    "# Copies and Views"
   ]
  },
  {
   "cell_type": "markdown",
   "id": "d3d7817d",
   "metadata": {},
   "source": [
    "Some functions returns copies and some returns views..\n",
    "Copy is the new array and view is the different view of the original array...\n",
    "Copy is stored in different location but view is the ref to the same memory..."
   ]
  },
  {
   "cell_type": "code",
   "execution_count": 31,
   "id": "1485ffb2",
   "metadata": {},
   "outputs": [],
   "source": [
    "s_ids_numbers = np.array([1111,1212,1313,1414,1515,1616,1717,1818])"
   ]
  },
  {
   "cell_type": "code",
   "execution_count": 32,
   "id": "eca0533d",
   "metadata": {},
   "outputs": [
    {
     "data": {
      "text/plain": [
       "array([1111, 1212, 1313, 1414, 1515, 1616, 1717, 1818])"
      ]
     },
     "execution_count": 32,
     "metadata": {},
     "output_type": "execute_result"
    }
   ],
   "source": [
    "s_ids_numbers"
   ]
  },
  {
   "cell_type": "code",
   "execution_count": 33,
   "id": "1627aa1c",
   "metadata": {},
   "outputs": [],
   "source": [
    "s_ids_numbers_reg = s_ids_numbers"
   ]
  },
  {
   "cell_type": "code",
   "execution_count": 34,
   "id": "c7c72edb",
   "metadata": {},
   "outputs": [
    {
     "name": "stdout",
     "output_type": "stream",
     "text": [
      "Id of s_ids_numbers 2826582928144\n",
      "Id of s_ids_numbers_reg 2826582928144\n"
     ]
    }
   ],
   "source": [
    "print(\"Id of s_ids_numbers\",id(s_ids_numbers))\n",
    "print(\"Id of s_ids_numbers_reg\",id(s_ids_numbers_reg))"
   ]
  },
  {
   "cell_type": "code",
   "execution_count": 36,
   "id": "ccc213bb",
   "metadata": {},
   "outputs": [
    {
     "name": "stdout",
     "output_type": "stream",
     "text": [
      "[1111 2222 1313 1414 1515 1616 1717 1818]\n",
      "[1111 2222 1313 1414 1515 1616 1717 1818]\n"
     ]
    }
   ],
   "source": [
    "s_ids_numbers_reg[1] = 2222\n",
    "print(s_ids_numbers)\n",
    "print(s_ids_numbers_reg)"
   ]
  },
  {
   "cell_type": "code",
   "execution_count": 37,
   "id": "2efa5aaf",
   "metadata": {},
   "outputs": [],
   "source": [
    "#Assignment don't makes copy of the array it uses ref\n",
    "s_ids_numbers_reg_cp = s_ids_numbers.copy()"
   ]
  },
  {
   "cell_type": "code",
   "execution_count": 38,
   "id": "df0689c4",
   "metadata": {},
   "outputs": [
    {
     "name": "stdout",
     "output_type": "stream",
     "text": [
      "[1111 2222 1313 1414 1515 1616 1717 1818]\n"
     ]
    }
   ],
   "source": [
    "print(s_ids_numbers_reg_cp)"
   ]
  },
  {
   "cell_type": "code",
   "execution_count": 39,
   "id": "576979ee",
   "metadata": {},
   "outputs": [
    {
     "name": "stdout",
     "output_type": "stream",
     "text": [
      "[ True  True  True  True  True  True  True  True]\n"
     ]
    }
   ],
   "source": [
    "print(s_ids_numbers_reg_cp == s_ids_numbers)"
   ]
  },
  {
   "cell_type": "code",
   "execution_count": 40,
   "id": "8bf4c469",
   "metadata": {},
   "outputs": [
    {
     "name": "stdout",
     "output_type": "stream",
     "text": [
      "Id of s_ids_numbers_reg_cp 2826584420976\n",
      "Id of s_ids_numbers 2826582928144\n"
     ]
    }
   ],
   "source": [
    "print(\"Id of s_ids_numbers_reg_cp\",id(s_ids_numbers_reg_cp))\n",
    "print(\"Id of s_ids_numbers\",id(s_ids_numbers))"
   ]
  },
  {
   "cell_type": "code",
   "execution_count": 41,
   "id": "8e47a5c3",
   "metadata": {},
   "outputs": [
    {
     "name": "stdout",
     "output_type": "stream",
     "text": [
      "Original [1000 2222 1313 1414 1515 1616 1717 1818]\n",
      "Copy [1111 2222 1313 1414 1515 1616 1717 1818]\n"
     ]
    }
   ],
   "source": [
    "s_ids_numbers[0] = 1000\n",
    "print('Original',s_ids_numbers)\n",
    "print('Copy',s_ids_numbers_reg_cp)\n",
    "#It is also called deep copy"
   ]
  },
  {
   "cell_type": "code",
   "execution_count": 42,
   "id": "77724025",
   "metadata": {},
   "outputs": [],
   "source": [
    "#Views\n",
    "s_ids_numbers_v = s_ids_numbers.view()"
   ]
  },
  {
   "cell_type": "code",
   "execution_count": 43,
   "id": "91eabeff",
   "metadata": {},
   "outputs": [
    {
     "name": "stdout",
     "output_type": "stream",
     "text": [
      "Original: [2000 2222 1313 1414 1515 1616 1717 1818]\n",
      "View: [2000 2222 1313 1414 1515 1616 1717 1818]\n"
     ]
    }
   ],
   "source": [
    "s_ids_numbers_v[0] = 2000\n",
    "print(\"Original:\",s_ids_numbers)\n",
    "print(\"View:\",s_ids_numbers_v)"
   ]
  },
  {
   "cell_type": "code",
   "execution_count": 44,
   "id": "f1ead768",
   "metadata": {},
   "outputs": [
    {
     "name": "stdout",
     "output_type": "stream",
     "text": [
      "[2000 2222 1313 1414 1515 1616 1717 1818]\n",
      "None\n"
     ]
    }
   ],
   "source": [
    "print(s_ids_numbers_v.base)\n",
    "print(s_ids_numbers.base)"
   ]
  }
 ],
 "metadata": {
  "kernelspec": {
   "display_name": "Python 3",
   "language": "python",
   "name": "python3"
  },
  "language_info": {
   "codemirror_mode": {
    "name": "ipython",
    "version": 3
   },
   "file_extension": ".py",
   "mimetype": "text/x-python",
   "name": "python",
   "nbconvert_exporter": "python",
   "pygments_lexer": "ipython3",
   "version": "3.8.8"
  }
 },
 "nbformat": 4,
 "nbformat_minor": 5
}
