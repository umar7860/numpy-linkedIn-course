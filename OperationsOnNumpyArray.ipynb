{
 "cells": [
  {
   "cell_type": "markdown",
   "id": "2e152187",
   "metadata": {},
   "source": [
    "# Adding, Removing and sorting elements"
   ]
  },
  {
   "cell_type": "code",
   "execution_count": 1,
   "id": "63967db7",
   "metadata": {},
   "outputs": [],
   "source": [
    "import numpy as np"
   ]
  },
  {
   "cell_type": "code",
   "execution_count": 7,
   "id": "15a673b9",
   "metadata": {},
   "outputs": [
    {
     "data": {
      "text/plain": [
       "array([1, 2, 3, 5])"
      ]
     },
     "execution_count": 7,
     "metadata": {},
     "output_type": "execute_result"
    }
   ],
   "source": [
    "first_arr = np.array([1,2,3,5])\n",
    "first_arr"
   ]
  },
  {
   "cell_type": "code",
   "execution_count": 11,
   "id": "1b8c59e5",
   "metadata": {},
   "outputs": [
    {
     "data": {
      "text/plain": [
       "array([1, 2, 3, 4, 5])"
      ]
     },
     "execution_count": 11,
     "metadata": {},
     "output_type": "execute_result"
    }
   ],
   "source": [
    "first_arr_new = np.insert(first_arr,3,4)\n",
    "first_arr_new"
   ]
  },
  {
   "cell_type": "code",
   "execution_count": 12,
   "id": "ba9f228b",
   "metadata": {},
   "outputs": [
    {
     "data": {
      "text/plain": [
       "array([1, 2, 3, 4])"
      ]
     },
     "execution_count": 12,
     "metadata": {},
     "output_type": "execute_result"
    }
   ],
   "source": [
    "second_arr = np.array([1,2,3,4])\n",
    "second_arr"
   ]
  },
  {
   "cell_type": "code",
   "execution_count": 15,
   "id": "3d0c78f8",
   "metadata": {},
   "outputs": [
    {
     "data": {
      "text/plain": [
       "array([1, 2, 3, 4, 5])"
      ]
     },
     "execution_count": 15,
     "metadata": {},
     "output_type": "execute_result"
    }
   ],
   "source": [
    "new_second_arr = np.append(second_arr,5)\n",
    "new_second_arr"
   ]
  },
  {
   "cell_type": "code",
   "execution_count": 16,
   "id": "647c796f",
   "metadata": {},
   "outputs": [
    {
     "data": {
      "text/plain": [
       "array([1, 2, 3, 5, 6, 4])"
      ]
     },
     "execution_count": 16,
     "metadata": {},
     "output_type": "execute_result"
    }
   ],
   "source": [
    "third_arr = np.array([1,2,3,5,6,4])\n",
    "third_arr"
   ]
  },
  {
   "cell_type": "code",
   "execution_count": 17,
   "id": "181ee772",
   "metadata": {},
   "outputs": [
    {
     "data": {
      "text/plain": [
       "array([1, 2, 3, 5, 4])"
      ]
     },
     "execution_count": 17,
     "metadata": {},
     "output_type": "execute_result"
    }
   ],
   "source": [
    "del_arr = np.delete(third_arr,4)\n",
    "del_arr"
   ]
  },
  {
   "cell_type": "code",
   "execution_count": 22,
   "id": "3acd08a4",
   "metadata": {},
   "outputs": [
    {
     "data": {
      "text/plain": [
       "array([ 0, 18, 10, 14, 15,  4, 19,  6,  2,  0,  8,  7, 19, 10,  9, 12,  0,\n",
       "       13, 13, 11])"
      ]
     },
     "execution_count": 22,
     "metadata": {},
     "output_type": "execute_result"
    }
   ],
   "source": [
    "one_dim_arr = np.random.randint(0,20,20)\n",
    "one_dim_arr"
   ]
  },
  {
   "cell_type": "code",
   "execution_count": 23,
   "id": "1f41f8ef",
   "metadata": {},
   "outputs": [
    {
     "data": {
      "text/plain": [
       "(20,)"
      ]
     },
     "execution_count": 23,
     "metadata": {},
     "output_type": "execute_result"
    }
   ],
   "source": [
    "one_dim_arr.shape"
   ]
  },
  {
   "cell_type": "code",
   "execution_count": 24,
   "id": "31329d19",
   "metadata": {},
   "outputs": [],
   "source": [
    "int_two_dim_arr = np.array([[3,4,5,6,7],[3,6,8,9,0]])"
   ]
  },
  {
   "cell_type": "code",
   "execution_count": 26,
   "id": "25b6d67e",
   "metadata": {},
   "outputs": [
    {
     "data": {
      "text/plain": [
       "2"
      ]
     },
     "execution_count": 26,
     "metadata": {},
     "output_type": "execute_result"
    }
   ],
   "source": [
    "int_two_dim_arr.ndim"
   ]
  },
  {
   "cell_type": "code",
   "execution_count": 27,
   "id": "71bcb7dc",
   "metadata": {},
   "outputs": [
    {
     "name": "stdout",
     "output_type": "stream",
     "text": [
      "[ 0  0  0  2  4  6  7  8  9 10 10 11 12 13 13 14 15 18 19 19]\n"
     ]
    }
   ],
   "source": [
    "print(np.sort(one_dim_arr))"
   ]
  },
  {
   "cell_type": "code",
   "execution_count": 28,
   "id": "0398cd11",
   "metadata": {},
   "outputs": [
    {
     "name": "stdout",
     "output_type": "stream",
     "text": [
      "[[3 4 5 6 7]\n",
      " [0 3 6 8 9]]\n"
     ]
    }
   ],
   "source": [
    "print(np.sort(int_two_dim_arr))"
   ]
  },
  {
   "cell_type": "code",
   "execution_count": null,
   "id": "6b787c59",
   "metadata": {},
   "outputs": [],
   "source": [
    "string_arr = np.array(['Orange','Yellow','Red','white'])"
   ]
  }
 ],
 "metadata": {
  "kernelspec": {
   "display_name": "Python 3",
   "language": "python",
   "name": "python3"
  },
  "language_info": {
   "codemirror_mode": {
    "name": "ipython",
    "version": 3
   },
   "file_extension": ".py",
   "mimetype": "text/x-python",
   "name": "python",
   "nbconvert_exporter": "python",
   "pygments_lexer": "ipython3",
   "version": "3.8.8"
  }
 },
 "nbformat": 4,
 "nbformat_minor": 5
}
