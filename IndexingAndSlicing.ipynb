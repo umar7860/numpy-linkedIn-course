{
 "cells": [
  {
   "cell_type": "code",
   "execution_count": 1,
   "id": "02e34f20",
   "metadata": {},
   "outputs": [],
   "source": [
    "import numpy as np"
   ]
  },
  {
   "cell_type": "code",
   "execution_count": 2,
   "id": "cbbecefb",
   "metadata": {},
   "outputs": [
    {
     "data": {
      "text/plain": [
       "array([[ 0,  1,  2,  3],\n",
       "       [ 4,  5,  6,  7],\n",
       "       [ 8,  9, 10, 11]])"
      ]
     },
     "execution_count": 2,
     "metadata": {},
     "output_type": "execute_result"
    }
   ],
   "source": [
    "twodim_arr = np.reshape(np.arange(12),(3,4))\n",
    "twodim_arr"
   ]
  },
  {
   "cell_type": "code",
   "execution_count": 18,
   "id": "0d8dbae1",
   "metadata": {},
   "outputs": [
    {
     "name": "stdout",
     "output_type": "stream",
     "text": [
      "5\n",
      "(3, 4)\n"
     ]
    },
    {
     "data": {
      "text/plain": [
       "2"
      ]
     },
     "execution_count": 18,
     "metadata": {},
     "output_type": "execute_result"
    }
   ],
   "source": [
    "print(twodim_arr[1,1])\n",
    "print(twodim_arr.shape)\n",
    "twodim_arr.ndim"
   ]
  },
  {
   "cell_type": "code",
   "execution_count": null,
   "id": "8fce345d",
   "metadata": {},
   "outputs": [],
   "source": []
  },
  {
   "cell_type": "code",
   "execution_count": 4,
   "id": "3337487c",
   "metadata": {},
   "outputs": [
    {
     "data": {
      "text/plain": [
       "array([4, 5, 6, 7])"
      ]
     },
     "execution_count": 4,
     "metadata": {},
     "output_type": "execute_result"
    }
   ],
   "source": [
    "twodim_arr[1]"
   ]
  },
  {
   "cell_type": "code",
   "execution_count": 6,
   "id": "32b41dc0",
   "metadata": {},
   "outputs": [],
   "source": [
    "threedim_arr = np.reshape(np.arange(3*4*5),(3,4,5))"
   ]
  },
  {
   "cell_type": "code",
   "execution_count": 7,
   "id": "f6e1f627",
   "metadata": {},
   "outputs": [
    {
     "data": {
      "text/plain": [
       "array([[[ 0,  1,  2,  3,  4],\n",
       "        [ 5,  6,  7,  8,  9],\n",
       "        [10, 11, 12, 13, 14],\n",
       "        [15, 16, 17, 18, 19]],\n",
       "\n",
       "       [[20, 21, 22, 23, 24],\n",
       "        [25, 26, 27, 28, 29],\n",
       "        [30, 31, 32, 33, 34],\n",
       "        [35, 36, 37, 38, 39]],\n",
       "\n",
       "       [[40, 41, 42, 43, 44],\n",
       "        [45, 46, 47, 48, 49],\n",
       "        [50, 51, 52, 53, 54],\n",
       "        [55, 56, 57, 58, 59]]])"
      ]
     },
     "execution_count": 7,
     "metadata": {},
     "output_type": "execute_result"
    }
   ],
   "source": [
    "threedim_arr"
   ]
  },
  {
   "cell_type": "code",
   "execution_count": 8,
   "id": "f2c95efe",
   "metadata": {},
   "outputs": [
    {
     "data": {
      "text/plain": [
       "13"
      ]
     },
     "execution_count": 8,
     "metadata": {},
     "output_type": "execute_result"
    }
   ],
   "source": [
    "threedim_arr[0,2,3]"
   ]
  },
  {
   "cell_type": "code",
   "execution_count": 9,
   "id": "2b9dedff",
   "metadata": {},
   "outputs": [
    {
     "data": {
      "text/plain": [
       "59"
      ]
     },
     "execution_count": 9,
     "metadata": {},
     "output_type": "execute_result"
    }
   ],
   "source": [
    "threedim_arr[2,-1,-1]"
   ]
  },
  {
   "cell_type": "code",
   "execution_count": 10,
   "id": "9afc6afe",
   "metadata": {},
   "outputs": [
    {
     "data": {
      "text/plain": [
       "array([0, 1, 2, 3, 4, 5, 6, 7, 8, 9])"
      ]
     },
     "execution_count": 10,
     "metadata": {},
     "output_type": "execute_result"
    }
   ],
   "source": [
    "onedim_arr = np.arange(10)\n",
    "onedim_arr"
   ]
  },
  {
   "cell_type": "code",
   "execution_count": 11,
   "id": "a844f05d",
   "metadata": {},
   "outputs": [
    {
     "data": {
      "text/plain": [
       "array([2, 3, 4, 5])"
      ]
     },
     "execution_count": 11,
     "metadata": {},
     "output_type": "execute_result"
    }
   ],
   "source": [
    "onedim_arr[2:6]"
   ]
  },
  {
   "cell_type": "code",
   "execution_count": 13,
   "id": "f3ebdcdf",
   "metadata": {},
   "outputs": [
    {
     "data": {
      "text/plain": [
       "array([0, 1, 2, 3, 4])"
      ]
     },
     "execution_count": 13,
     "metadata": {},
     "output_type": "execute_result"
    }
   ],
   "source": [
    "onedim_arr[:5]"
   ]
  },
  {
   "cell_type": "code",
   "execution_count": 15,
   "id": "26fdb29f",
   "metadata": {},
   "outputs": [
    {
     "data": {
      "text/plain": [
       "array([7, 8, 9])"
      ]
     },
     "execution_count": 15,
     "metadata": {},
     "output_type": "execute_result"
    }
   ],
   "source": [
    "onedim_arr[-3:]"
   ]
  },
  {
   "cell_type": "code",
   "execution_count": 16,
   "id": "3711d9c6",
   "metadata": {},
   "outputs": [
    {
     "data": {
      "text/plain": [
       "array([0, 2, 4, 6, 8])"
      ]
     },
     "execution_count": 16,
     "metadata": {},
     "output_type": "execute_result"
    }
   ],
   "source": [
    "onedim_arr[::2]"
   ]
  },
  {
   "cell_type": "markdown",
   "id": "c4dae888",
   "metadata": {},
   "source": [
    "# Slicing  2D array"
   ]
  },
  {
   "cell_type": "code",
   "execution_count": 21,
   "id": "1b642d52",
   "metadata": {},
   "outputs": [
    {
     "data": {
      "text/plain": [
       "array([[ 0,  1,  2,  3],\n",
       "       [ 4,  5,  6,  7],\n",
       "       [ 8,  9, 10, 11]])"
      ]
     },
     "execution_count": 21,
     "metadata": {},
     "output_type": "execute_result"
    }
   ],
   "source": [
    "twodim_arr"
   ]
  },
  {
   "cell_type": "code",
   "execution_count": 28,
   "id": "7d17a5aa",
   "metadata": {},
   "outputs": [
    {
     "data": {
      "text/plain": [
       "array([[4, 5],\n",
       "       [8, 9]])"
      ]
     },
     "execution_count": 28,
     "metadata": {},
     "output_type": "execute_result"
    }
   ],
   "source": [
    "twodim_arr[1:,0:2]"
   ]
  },
  {
   "cell_type": "code",
   "execution_count": 33,
   "id": "d7b7d45d",
   "metadata": {},
   "outputs": [
    {
     "data": {
      "text/plain": [
       "array([ 2,  6, 10])"
      ]
     },
     "execution_count": 33,
     "metadata": {},
     "output_type": "execute_result"
    }
   ],
   "source": [
    "twodim_arr[:,2]"
   ]
  },
  {
   "cell_type": "code",
   "execution_count": null,
   "id": "73974620",
   "metadata": {},
   "outputs": [],
   "source": []
  }
 ],
 "metadata": {
  "kernelspec": {
   "display_name": "Python 3",
   "language": "python",
   "name": "python3"
  },
  "language_info": {
   "codemirror_mode": {
    "name": "ipython",
    "version": 3
   },
   "file_extension": ".py",
   "mimetype": "text/x-python",
   "name": "python",
   "nbconvert_exporter": "python",
   "pygments_lexer": "ipython3",
   "version": "3.8.8"
  }
 },
 "nbformat": 4,
 "nbformat_minor": 5
}
