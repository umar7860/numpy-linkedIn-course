{
 "cells": [
  {
   "cell_type": "code",
   "execution_count": 1,
   "id": "e151ce88",
   "metadata": {},
   "outputs": [],
   "source": [
    "import numpy as np"
   ]
  },
  {
   "cell_type": "markdown",
   "id": "da64a9e1",
   "metadata": {},
   "source": [
    "# Functions for joining Arrays"
   ]
  },
  {
   "cell_type": "markdown",
   "id": "d8632f28",
   "metadata": {},
   "source": [
    " -> concatenate\n",
    " -> stack\n",
    " -> hstack\n",
    " -> vstack"
   ]
  },
  {
   "cell_type": "code",
   "execution_count": 2,
   "id": "acce0694",
   "metadata": {},
   "outputs": [
    {
     "name": "stdout",
     "output_type": "stream",
     "text": [
      "[ 1  2  3  4  5  6  7  8  9 10]\n",
      "[11 12 13 14 15 16 17 18 19 20]\n"
     ]
    }
   ],
   "source": [
    "first_arr = np.arange(1,11)\n",
    "second_arr = np.arange(11,21)\n",
    "print(first_arr)\n",
    "print(second_arr)"
   ]
  },
  {
   "cell_type": "code",
   "execution_count": 4,
   "id": "3068b44b",
   "metadata": {},
   "outputs": [
    {
     "data": {
      "text/plain": [
       "array([ 1,  2,  3,  4,  5,  6,  7,  8,  9, 10, 11, 12, 13, 14, 15, 16, 17,\n",
       "       18, 19, 20])"
      ]
     },
     "execution_count": 4,
     "metadata": {},
     "output_type": "execute_result"
    }
   ],
   "source": [
    "con_arr = np.concatenate((first_arr,second_arr))\n",
    "con_arr"
   ]
  },
  {
   "cell_type": "code",
   "execution_count": 11,
   "id": "8075e405",
   "metadata": {},
   "outputs": [
    {
     "data": {
      "text/plain": [
       "array([[1, 2, 3, 4],\n",
       "       [5, 6, 7, 8]])"
      ]
     },
     "execution_count": 11,
     "metadata": {},
     "output_type": "execute_result"
    }
   ],
   "source": [
    "third_2d_arr = np.array([[1,2,3,4,5],[6,7,8,9,10]])\n",
    "third_2d_arr"
   ]
  },
  {
   "cell_type": "code",
   "execution_count": 12,
   "id": "04c17dbc",
   "metadata": {},
   "outputs": [
    {
     "data": {
      "text/plain": [
       "array([[11, 12, 13, 14, 15],\n",
       "       [16, 17, 18, 19, 20]])"
      ]
     },
     "execution_count": 12,
     "metadata": {},
     "output_type": "execute_result"
    }
   ],
   "source": [
    "fourth_2d_arr = np.array([[11,12,13,14,15],[16,17,18,19,20]])\n",
    "fourth_2d_arr"
   ]
  },
  {
   "cell_type": "code",
   "execution_count": 15,
   "id": "2431279e",
   "metadata": {},
   "outputs": [],
   "source": [
    "cont2d_arr = np.concatenate((third_2d_arr,fourth_2d_arr),axis=1)"
   ]
  },
  {
   "cell_type": "code",
   "execution_count": 17,
   "id": "fc6901b1",
   "metadata": {},
   "outputs": [
    {
     "data": {
      "text/plain": [
       "array([[ 1,  2,  3,  4, 11, 12, 13, 14, 15],\n",
       "       [ 5,  6,  7,  8, 16, 17, 18, 19, 20]])"
      ]
     },
     "execution_count": 17,
     "metadata": {},
     "output_type": "execute_result"
    }
   ],
   "source": [
    "cont2d_arr"
   ]
  },
  {
   "cell_type": "code",
   "execution_count": 18,
   "id": "7bb8ee1c",
   "metadata": {},
   "outputs": [
    {
     "data": {
      "text/plain": [
       "array([[ 1,  2,  3,  4,  5,  6,  7,  8,  9, 10],\n",
       "       [11, 12, 13, 14, 15, 16, 17, 18, 19, 20]])"
      ]
     },
     "execution_count": 18,
     "metadata": {},
     "output_type": "execute_result"
    }
   ],
   "source": [
    "st_arr = np.stack((first_arr,second_arr))\n",
    "st_arr"
   ]
  },
  {
   "cell_type": "code",
   "execution_count": 21,
   "id": "696d8973",
   "metadata": {},
   "outputs": [
    {
     "data": {
      "text/plain": [
       "array([ 1,  2,  3,  4,  5,  6,  7,  8,  9, 10, 11, 12, 13, 14, 15, 16, 17,\n",
       "       18, 19, 20])"
      ]
     },
     "execution_count": 21,
     "metadata": {},
     "output_type": "execute_result"
    }
   ],
   "source": [
    "hat_arr = np.hstack((first_arr,second_arr))\n",
    "hat_arr"
   ]
  },
  {
   "cell_type": "code",
   "execution_count": 22,
   "id": "8b086fde",
   "metadata": {},
   "outputs": [
    {
     "data": {
      "text/plain": [
       "array([[ 1,  2,  3,  4,  5,  6,  7,  8,  9, 10],\n",
       "       [11, 12, 13, 14, 15, 16, 17, 18, 19, 20]])"
      ]
     },
     "execution_count": 22,
     "metadata": {},
     "output_type": "execute_result"
    }
   ],
   "source": [
    "vst_arr = np.vstack((first_arr,second_arr))\n",
    "vst_arr"
   ]
  },
  {
   "cell_type": "markdown",
   "id": "56a4d9eb",
   "metadata": {},
   "source": [
    "# Splitting Arrays"
   ]
  },
  {
   "cell_type": "code",
   "execution_count": 23,
   "id": "19cdae6c",
   "metadata": {},
   "outputs": [],
   "source": [
    "#split\n",
    "#array_split\n",
    "#hsplit\n",
    "#vsplit"
   ]
  },
  {
   "cell_type": "code",
   "execution_count": 24,
   "id": "2ca23d75",
   "metadata": {},
   "outputs": [
    {
     "data": {
      "text/plain": [
       "array([ 1,  2,  3,  4,  5,  6,  7,  8,  9, 10, 11, 12])"
      ]
     },
     "execution_count": 24,
     "metadata": {},
     "output_type": "execute_result"
    }
   ],
   "source": [
    "fifth_arr = np.arange(1,13)\n",
    "fifth_arr"
   ]
  },
  {
   "cell_type": "code",
   "execution_count": 26,
   "id": "9a86367a",
   "metadata": {},
   "outputs": [
    {
     "data": {
      "text/plain": [
       "[array([1, 2, 3]), array([4, 5, 6]), array([7, 8, 9]), array([10, 11, 12])]"
      ]
     },
     "execution_count": 26,
     "metadata": {},
     "output_type": "execute_result"
    }
   ],
   "source": [
    "sp_arr = np.array_split(fifth_arr,4)\n",
    "sp_arr"
   ]
  },
  {
   "cell_type": "code",
   "execution_count": 28,
   "id": "6721c509",
   "metadata": {},
   "outputs": [
    {
     "data": {
      "text/plain": [
       "array([7, 8, 9])"
      ]
     },
     "execution_count": 28,
     "metadata": {},
     "output_type": "execute_result"
    }
   ],
   "source": [
    "sp_arr[2]"
   ]
  },
  {
   "cell_type": "code",
   "execution_count": 29,
   "id": "5fdaa4fa",
   "metadata": {},
   "outputs": [
    {
     "data": {
      "text/plain": [
       "[array([1, 2]),\n",
       " array([3, 4]),\n",
       " array([5, 6]),\n",
       " array([7, 8]),\n",
       " array([9]),\n",
       " array([10]),\n",
       " array([11]),\n",
       " array([12])]"
      ]
     },
     "execution_count": 29,
     "metadata": {},
     "output_type": "execute_result"
    }
   ],
   "source": [
    "sp_array = np.array_split(fifth_arr,8)\n",
    "sp_array"
   ]
  },
  {
   "cell_type": "code",
   "execution_count": 31,
   "id": "22a96fce",
   "metadata": {},
   "outputs": [
    {
     "data": {
      "text/plain": [
       "array([[1, 2, 3, 4],\n",
       "       [5, 6, 7, 8]])"
      ]
     },
     "execution_count": 31,
     "metadata": {},
     "output_type": "execute_result"
    }
   ],
   "source": [
    "third_2d_arr"
   ]
  },
  {
   "cell_type": "code",
   "execution_count": 33,
   "id": "33107749",
   "metadata": {},
   "outputs": [
    {
     "data": {
      "text/plain": [
       "[array([[1],\n",
       "        [5]]),\n",
       " array([[2],\n",
       "        [6]]),\n",
       " array([[3],\n",
       "        [7]]),\n",
       " array([[4],\n",
       "        [8]])]"
      ]
     },
     "execution_count": 33,
     "metadata": {},
     "output_type": "execute_result"
    }
   ],
   "source": [
    "hs_arr = np.hsplit(third_2d_arr,4)\n",
    "hs_arr"
   ]
  },
  {
   "cell_type": "code",
   "execution_count": 38,
   "id": "0a1d71dd",
   "metadata": {},
   "outputs": [
    {
     "name": "stdout",
     "output_type": "stream",
     "text": [
      "[array([[1, 2, 3, 4]]), array([[5, 6, 7, 8]])]\n"
     ]
    }
   ],
   "source": [
    "vs_arr = np.vsplit(third_2d_arr,2)\n",
    "print(vs_arr)"
   ]
  }
 ],
 "metadata": {
  "kernelspec": {
   "display_name": "Python 3",
   "language": "python",
   "name": "python3"
  },
  "language_info": {
   "codemirror_mode": {
    "name": "ipython",
    "version": 3
   },
   "file_extension": ".py",
   "mimetype": "text/x-python",
   "name": "python",
   "nbconvert_exporter": "python",
   "pygments_lexer": "ipython3",
   "version": "3.8.8"
  }
 },
 "nbformat": 4,
 "nbformat_minor": 5
}
