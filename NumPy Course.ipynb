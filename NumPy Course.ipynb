{
 "cells": [
  {
   "cell_type": "code",
   "execution_count": 3,
   "id": "d4297aaf",
   "metadata": {},
   "outputs": [
    {
     "name": "stdout",
     "output_type": "stream",
     "text": [
      "Enter radius of a sphere:2\n",
      "Volume of the sphere will be  33.51\n"
     ]
    }
   ],
   "source": [
    "import math\n",
    "radius = float(input(\"Enter radius of a sphere:\"))\n",
    "volume= (4/3) * math.pi *pow(radius,3)\n",
    "print(\"Volume of the sphere will be  %.2f\" %volume)"
   ]
  },
  {
   "cell_type": "code",
   "execution_count": 7,
   "id": "ef1fc280",
   "metadata": {},
   "outputs": [
    {
     "name": "stdout",
     "output_type": "stream",
     "text": [
      "Enter Number 1:2\n",
      "Enter Number 2:2\n",
      "Add =  4.0\n",
      "Sub =  0.0\n",
      "Div =  1.0\n",
      "Mul =  4.0\n"
     ]
    }
   ],
   "source": [
    "number_1 = float(input(\"Enter Number 1:\"))\n",
    "number_2 = float(input(\"Enter Number 2:\"))\n",
    "add = number_1 + number_2\n",
    "sub = number_1 - number_2\n",
    "div = number_1 / number_2\n",
    "mul = number_1 * number_2\n",
    "\n",
    "print(\"Add = \",add)\n",
    "print(\"Sub = \",sub)\n",
    "print(\"Div = \",div)\n",
    "print(\"Mul = \",mul)"
   ]
  },
  {
   "cell_type": "code",
   "execution_count": 8,
   "id": "8f9b2ad1",
   "metadata": {},
   "outputs": [
    {
     "name": "stdout",
     "output_type": "stream",
     "text": [
      "Enter the temperature in Celsius:37\n",
      "Temperature in Fahrenheit is  98.60000000000001\n"
     ]
    }
   ],
   "source": [
    "temp = float(input(\"Enter the temperature in Celsius:\"))\n",
    "temp_in_fahrenheit = (temp * (9 / 5)) + 32\n",
    "print(\"Temperature in Fahrenheit is \",temp_in_fahrenheit)\n"
   ]
  },
  {
   "cell_type": "code",
   "execution_count": 3,
   "id": "7f139303",
   "metadata": {},
   "outputs": [],
   "source": [
    "####Importing numpy module\n",
    "\n",
    "import numpy as np\n"
   ]
  },
  {
   "cell_type": "code",
   "execution_count": 4,
   "id": "6eb1b62d",
   "metadata": {},
   "outputs": [
    {
     "name": "stdout",
     "output_type": "stream",
     "text": [
      "[10 20 30 40 50]\n"
     ]
    }
   ],
   "source": [
    "integer = np.array([10,20,30,40,50])\n",
    "print(integer)"
   ]
  },
  {
   "cell_type": "code",
   "execution_count": 8,
   "id": "2a7345be",
   "metadata": {},
   "outputs": [
    {
     "data": {
      "text/plain": [
       "30"
      ]
     },
     "execution_count": 8,
     "metadata": {},
     "output_type": "execute_result"
    }
   ],
   "source": [
    "integer[2]"
   ]
  },
  {
   "cell_type": "code",
   "execution_count": 10,
   "id": "19448c2c",
   "metadata": {},
   "outputs": [
    {
     "data": {
      "text/plain": [
       "20"
      ]
     },
     "execution_count": 10,
     "metadata": {},
     "output_type": "execute_result"
    }
   ],
   "source": [
    "integer[0] = 20\n",
    "integer[0]"
   ]
  },
  {
   "cell_type": "code",
   "execution_count": 11,
   "id": "98fbddc9",
   "metadata": {},
   "outputs": [
    {
     "data": {
      "text/plain": [
       "29"
      ]
     },
     "execution_count": 11,
     "metadata": {},
     "output_type": "execute_result"
    }
   ],
   "source": [
    "#Decimal number will be turancating the number because\n",
    "#numpy array store same data type elements\n",
    "\n",
    "\n",
    "integer[0] = 29.5\n",
    "integer[0]"
   ]
  },
  {
   "cell_type": "code",
   "execution_count": 12,
   "id": "2be316bf",
   "metadata": {},
   "outputs": [
    {
     "data": {
      "text/plain": [
       "dtype('int32')"
      ]
     },
     "execution_count": 12,
     "metadata": {},
     "output_type": "execute_result"
    }
   ],
   "source": [
    "#we can check data type of numpy array like this\n",
    "\n",
    "integer.dtype"
   ]
  },
  {
   "cell_type": "code",
   "execution_count": 16,
   "id": "956c22d3",
   "metadata": {},
   "outputs": [
    {
     "data": {
      "text/plain": [
       "array([29, 20, 30, 40, 50], dtype=int8)"
      ]
     },
     "execution_count": 16,
     "metadata": {},
     "output_type": "execute_result"
    }
   ],
   "source": [
    "smallInt = np.array(integer,dtype = np.int8)\n",
    "smallInt\n"
   ]
  },
  {
   "cell_type": "code",
   "execution_count": 18,
   "id": "e72ef0a8",
   "metadata": {},
   "outputs": [
    {
     "data": {
      "text/plain": [
       "dtype('int8')"
      ]
     },
     "execution_count": 18,
     "metadata": {},
     "output_type": "execute_result"
    }
   ],
   "source": [
    "smallInt.dtype\n"
   ]
  },
  {
   "cell_type": "code",
   "execution_count": 24,
   "id": "2b7cd0bc",
   "metadata": {},
   "outputs": [
    {
     "name": "stdout",
     "output_type": "stream",
     "text": [
      "Intger array size: 20\n",
      "Small array size: 5\n"
     ]
    }
   ],
   "source": [
    "#For checking array size \n",
    "\n",
    "print(\"Intger array size: {}\".format(integer.nbytes))\n",
    "print(\"Small array size: {}\".format(smallInt.nbytes))"
   ]
  },
  {
   "cell_type": "code",
   "execution_count": 27,
   "id": "41c2eb49",
   "metadata": {},
   "outputs": [
    {
     "data": {
      "text/plain": [
       "dtype('float64')"
      ]
     },
     "execution_count": 27,
     "metadata": {},
     "output_type": "execute_result"
    }
   ],
   "source": [
    "floatArray = np.array([1.1,2.3,4.5,5.6])\n",
    "floatArray.dtype"
   ]
  },
  {
   "cell_type": "code",
   "execution_count": 32,
   "id": "0060c545",
   "metadata": {},
   "outputs": [
    {
     "data": {
      "text/plain": [
       "array([[ 1,  2,  3,  4,  5],\n",
       "       [ 6,  7,  8,  9, 10]])"
      ]
     },
     "execution_count": 32,
     "metadata": {},
     "output_type": "execute_result"
    }
   ],
   "source": [
    "#Multidimensional Array...\n",
    "array2D = np.array([[1,2,3,4,5],[6,7,8,9,10]])\n",
    "array2D"
   ]
  },
  {
   "cell_type": "code",
   "execution_count": 33,
   "id": "cdf94979",
   "metadata": {},
   "outputs": [
    {
     "data": {
      "text/plain": [
       "1"
      ]
     },
     "execution_count": 33,
     "metadata": {},
     "output_type": "execute_result"
    }
   ],
   "source": [
    "array2D[0,0]"
   ]
  },
  {
   "cell_type": "code",
   "execution_count": 34,
   "id": "e81f4bed",
   "metadata": {},
   "outputs": [
    {
     "data": {
      "text/plain": [
       "10"
      ]
     },
     "execution_count": 34,
     "metadata": {},
     "output_type": "execute_result"
    }
   ],
   "source": [
    "array2D[1,4]"
   ]
  },
  {
   "cell_type": "code",
   "execution_count": 35,
   "id": "354fe9b7",
   "metadata": {},
   "outputs": [
    {
     "data": {
      "text/plain": [
       "2"
      ]
     },
     "execution_count": 35,
     "metadata": {},
     "output_type": "execute_result"
    }
   ],
   "source": [
    "#for checking array dimensions\n",
    "array2D.ndim"
   ]
  },
  {
   "cell_type": "code",
   "execution_count": 60,
   "id": "42bd6a42",
   "metadata": {},
   "outputs": [],
   "source": [
    "#3 dimensions array\n",
    "\n",
    "multi_dimen = np.array([[[1,2,3],[4,5,6],[5,6,7]],[[1,2,3],[4,5,6],[5,6,7]]])"
   ]
  },
  {
   "cell_type": "code",
   "execution_count": 61,
   "id": "51617d90",
   "metadata": {},
   "outputs": [
    {
     "data": {
      "text/plain": [
       "array([[[1, 2, 3],\n",
       "        [4, 5, 6],\n",
       "        [5, 6, 7]],\n",
       "\n",
       "       [[1, 2, 3],\n",
       "        [4, 5, 6],\n",
       "        [5, 6, 7]]])"
      ]
     },
     "execution_count": 61,
     "metadata": {},
     "output_type": "execute_result"
    }
   ],
   "source": [
    "multi_dimen"
   ]
  },
  {
   "cell_type": "code",
   "execution_count": 63,
   "id": "a833fc52",
   "metadata": {},
   "outputs": [
    {
     "data": {
      "text/plain": [
       "3"
      ]
     },
     "execution_count": 63,
     "metadata": {},
     "output_type": "execute_result"
    }
   ],
   "source": [
    "multi_dimen.ndim\n",
    "\n",
    "\n",
    "#Similary we can create 4 dim and upto so on...."
   ]
  },
  {
   "cell_type": "markdown",
   "id": "5cd3583e",
   "metadata": {},
   "source": [
    "# Creating arrays from lists and other Python strucutre"
   ]
  },
  {
   "cell_type": "code",
   "execution_count": 64,
   "id": "d0595c23",
   "metadata": {},
   "outputs": [
    {
     "data": {
      "text/plain": [
       "[1, 2, 3, 4, 5, 6, 7, 8, 9, 10]"
      ]
     },
     "execution_count": 64,
     "metadata": {},
     "output_type": "execute_result"
    }
   ],
   "source": [
    "first_list = [1,2,3,4,5,6,7,8,9,10]\n",
    "first_list"
   ]
  },
  {
   "cell_type": "code",
   "execution_count": 67,
   "id": "3ec366e0",
   "metadata": {},
   "outputs": [
    {
     "data": {
      "text/plain": [
       "array([ 1,  2,  3,  4,  5,  6,  7,  8,  9, 10])"
      ]
     },
     "execution_count": 67,
     "metadata": {},
     "output_type": "execute_result"
    }
   ],
   "source": [
    "first_array = np.array(first_list)\n",
    "first_array"
   ]
  },
  {
   "cell_type": "code",
   "execution_count": 69,
   "id": "f3f7e68b",
   "metadata": {},
   "outputs": [
    {
     "data": {
      "text/plain": [
       "40"
      ]
     },
     "execution_count": 69,
     "metadata": {},
     "output_type": "execute_result"
    }
   ],
   "source": [
    "first_array.nbytes"
   ]
  },
  {
   "cell_type": "code",
   "execution_count": 70,
   "id": "1317afd6",
   "metadata": {},
   "outputs": [],
   "source": [
    "second_list = [1,2,3,-1.23,50,12800,4.56]"
   ]
  },
  {
   "cell_type": "code",
   "execution_count": 72,
   "id": "7abdb0d0",
   "metadata": {},
   "outputs": [
    {
     "data": {
      "text/plain": [
       "[1, 2, 3, -1.23, 50, 12800, 4.56]"
      ]
     },
     "execution_count": 72,
     "metadata": {},
     "output_type": "execute_result"
    }
   ],
   "source": [
    "second_array = np.array(second_list)\n",
    "second_list"
   ]
  },
  {
   "cell_type": "code",
   "execution_count": 74,
   "id": "d953b8f0",
   "metadata": {},
   "outputs": [
    {
     "data": {
      "text/plain": [
       "dtype('float64')"
      ]
     },
     "execution_count": 74,
     "metadata": {},
     "output_type": "execute_result"
    }
   ],
   "source": [
    "second_array.dtype"
   ]
  },
  {
   "cell_type": "code",
   "execution_count": 75,
   "id": "5a20cae4",
   "metadata": {},
   "outputs": [
    {
     "data": {
      "text/plain": [
       "[123, 'Umar', 234, 'Ali']"
      ]
     },
     "execution_count": 75,
     "metadata": {},
     "output_type": "execute_result"
    }
   ],
   "source": [
    "third_list = [123,'Umar',234,'Ali']\n",
    "third_list"
   ]
  },
  {
   "cell_type": "code",
   "execution_count": 77,
   "id": "5d2ab5f1",
   "metadata": {},
   "outputs": [
    {
     "data": {
      "text/plain": [
       "array(['123', 'Umar', '234', 'Ali'], dtype='<U11')"
      ]
     },
     "execution_count": 77,
     "metadata": {},
     "output_type": "execute_result"
    }
   ],
   "source": [
    "third_array = np.array(third_list)\n",
    "third_array"
   ]
  },
  {
   "cell_type": "code",
   "execution_count": 78,
   "id": "2f20f2d0",
   "metadata": {},
   "outputs": [
    {
     "data": {
      "text/plain": [
       "dtype('<U11')"
      ]
     },
     "execution_count": 78,
     "metadata": {},
     "output_type": "execute_result"
    }
   ],
   "source": [
    "third_array.dtype"
   ]
  },
  {
   "cell_type": "code",
   "execution_count": 79,
   "id": "4bbde9d8",
   "metadata": {},
   "outputs": [],
   "source": [
    "#creating lists from tuples\n",
    "tuple_01 = (1,2,3,4,5)\n",
    "array_from_tuple = np.array(tuple_01)"
   ]
  },
  {
   "cell_type": "code",
   "execution_count": 80,
   "id": "2a363cb4",
   "metadata": {},
   "outputs": [
    {
     "data": {
      "text/plain": [
       "array([1, 2, 3, 4, 5])"
      ]
     },
     "execution_count": 80,
     "metadata": {},
     "output_type": "execute_result"
    }
   ],
   "source": [
    "array_from_tuple"
   ]
  },
  {
   "cell_type": "code",
   "execution_count": 81,
   "id": "12965ddd",
   "metadata": {},
   "outputs": [
    {
     "data": {
      "text/plain": [
       "dtype('int32')"
      ]
     },
     "execution_count": 81,
     "metadata": {},
     "output_type": "execute_result"
    }
   ],
   "source": [
    "array_from_tuple.dtype"
   ]
  },
  {
   "cell_type": "code",
   "execution_count": 82,
   "id": "12a3a329",
   "metadata": {},
   "outputs": [
    {
     "data": {
      "text/plain": [
       "array([[[1, 2, 3],\n",
       "        [4, 5, 6],\n",
       "        [5, 6, 7]],\n",
       "\n",
       "       [[1, 2, 3],\n",
       "        [4, 5, 6],\n",
       "        [5, 6, 7]]])"
      ]
     },
     "execution_count": 82,
     "metadata": {},
     "output_type": "execute_result"
    }
   ],
   "source": [
    "###creating array from list of lists\n",
    "multiDimList = np.array([[[1,2,3],[4,5,6],[5,6,7]],[[1,2,3],[4,5,6],[5,6,7]]])\n",
    "multiDimList"
   ]
  },
  {
   "cell_type": "code",
   "execution_count": 83,
   "id": "27449506",
   "metadata": {},
   "outputs": [],
   "source": [
    "array_from_multiDimList = np.array(multiDimList)"
   ]
  },
  {
   "cell_type": "code",
   "execution_count": 84,
   "id": "aa2689b6",
   "metadata": {},
   "outputs": [
    {
     "data": {
      "text/plain": [
       "array([[[1, 2, 3],\n",
       "        [4, 5, 6],\n",
       "        [5, 6, 7]],\n",
       "\n",
       "       [[1, 2, 3],\n",
       "        [4, 5, 6],\n",
       "        [5, 6, 7]]])"
      ]
     },
     "execution_count": 84,
     "metadata": {},
     "output_type": "execute_result"
    }
   ],
   "source": [
    "array_from_multiDimList\n"
   ]
  },
  {
   "cell_type": "code",
   "execution_count": null,
   "id": "bfa8eb4b",
   "metadata": {},
   "outputs": [],
   "source": [
    "array_from_multiDimList.dty"
   ]
  }
 ],
 "metadata": {
  "kernelspec": {
   "display_name": "Python 3",
   "language": "python",
   "name": "python3"
  },
  "language_info": {
   "codemirror_mode": {
    "name": "ipython",
    "version": 3
   },
   "file_extension": ".py",
   "mimetype": "text/x-python",
   "name": "python",
   "nbconvert_exporter": "python",
   "pygments_lexer": "ipython3",
   "version": "3.8.8"
  }
 },
 "nbformat": 4,
 "nbformat_minor": 5
}
