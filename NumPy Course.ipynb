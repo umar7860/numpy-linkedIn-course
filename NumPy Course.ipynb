{
 "cells": [
  {
   "cell_type": "code",
   "execution_count": 3,
   "id": "d4297aaf",
   "metadata": {},
   "outputs": [
    {
     "name": "stdout",
     "output_type": "stream",
     "text": [
      "Enter radius of a sphere:2\n",
      "Volume of the sphere will be  33.51\n"
     ]
    }
   ],
   "source": [
    "import math\n",
    "radius = float(input(\"Enter radius of a sphere:\"))\n",
    "volume= (4/3) * math.pi *pow(radius,3)\n",
    "print(\"Volume of the sphere will be  %.2f\" %volume)"
   ]
  },
  {
   "cell_type": "code",
   "execution_count": 7,
   "id": "ef1fc280",
   "metadata": {},
   "outputs": [
    {
     "name": "stdout",
     "output_type": "stream",
     "text": [
      "Enter Number 1:2\n",
      "Enter Number 2:2\n",
      "Add =  4.0\n",
      "Sub =  0.0\n",
      "Div =  1.0\n",
      "Mul =  4.0\n"
     ]
    }
   ],
   "source": [
    "number_1 = float(input(\"Enter Number 1:\"))\n",
    "number_2 = float(input(\"Enter Number 2:\"))\n",
    "add = number_1 + number_2\n",
    "sub = number_1 - number_2\n",
    "div = number_1 / number_2\n",
    "mul = number_1 * number_2\n",
    "\n",
    "print(\"Add = \",add)\n",
    "print(\"Sub = \",sub)\n",
    "print(\"Div = \",div)\n",
    "print(\"Mul = \",mul)"
   ]
  },
  {
   "cell_type": "code",
   "execution_count": 8,
   "id": "8f9b2ad1",
   "metadata": {},
   "outputs": [
    {
     "name": "stdout",
     "output_type": "stream",
     "text": [
      "Enter the temperature in Celsius:37\n",
      "Temperature in Fahrenheit is  98.60000000000001\n"
     ]
    }
   ],
   "source": [
    "temp = float(input(\"Enter the temperature in Celsius:\"))\n",
    "temp_in_fahrenheit = (temp * (9 / 5)) + 32\n",
    "print(\"Temperature in Fahrenheit is \",temp_in_fahrenheit)\n"
   ]
  }
 ],
 "metadata": {
  "kernelspec": {
   "display_name": "Python 3",
   "language": "python",
   "name": "python3"
  },
  "language_info": {
   "codemirror_mode": {
    "name": "ipython",
    "version": 3
   },
   "file_extension": ".py",
   "mimetype": "text/x-python",
   "name": "python",
   "nbconvert_exporter": "python",
   "pygments_lexer": "ipython3",
   "version": "3.8.8"
  }
 },
 "nbformat": 4,
 "nbformat_minor": 5
}
