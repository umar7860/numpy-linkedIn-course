{
 "cells": [
  {
   "cell_type": "code",
   "execution_count": 3,
   "id": "d4297aaf",
   "metadata": {},
   "outputs": [
    {
     "name": "stdout",
     "output_type": "stream",
     "text": [
      "Enter radius of a sphere:2\n",
      "Volume of the sphere will be  33.51\n"
     ]
    }
   ],
   "source": [
    "import math\n",
    "radius = float(input(\"Enter radius of a sphere:\"))\n",
    "volume= (4/3) * math.pi *pow(radius,3)\n",
    "print(\"Volume of the sphere will be  %.2f\" %volume)"
   ]
  },
  {
   "cell_type": "code",
   "execution_count": 7,
   "id": "ef1fc280",
   "metadata": {},
   "outputs": [
    {
     "name": "stdout",
     "output_type": "stream",
     "text": [
      "Enter Number 1:2\n",
      "Enter Number 2:2\n",
      "Add =  4.0\n",
      "Sub =  0.0\n",
      "Div =  1.0\n",
      "Mul =  4.0\n"
     ]
    }
   ],
   "source": [
    "number_1 = float(input(\"Enter Number 1:\"))\n",
    "number_2 = float(input(\"Enter Number 2:\"))\n",
    "add = number_1 + number_2\n",
    "sub = number_1 - number_2\n",
    "div = number_1 / number_2\n",
    "mul = number_1 * number_2\n",
    "\n",
    "print(\"Add = \",add)\n",
    "print(\"Sub = \",sub)\n",
    "print(\"Div = \",div)\n",
    "print(\"Mul = \",mul)"
   ]
  },
  {
   "cell_type": "code",
   "execution_count": 8,
   "id": "8f9b2ad1",
   "metadata": {},
   "outputs": [
    {
     "name": "stdout",
     "output_type": "stream",
     "text": [
      "Enter the temperature in Celsius:37\n",
      "Temperature in Fahrenheit is  98.60000000000001\n"
     ]
    }
   ],
   "source": [
    "temp = float(input(\"Enter the temperature in Celsius:\"))\n",
    "temp_in_fahrenheit = (temp * (9 / 5)) + 32\n",
    "print(\"Temperature in Fahrenheit is \",temp_in_fahrenheit)\n"
   ]
  },
  {
   "cell_type": "code",
   "execution_count": 3,
   "id": "449f6983",
   "metadata": {},
   "outputs": [],
   "source": [
    "####Importing numpy module\n",
    "\n",
    "import numpy as np\n"
   ]
  },
  {
   "cell_type": "code",
   "execution_count": 4,
   "id": "c24666c9",
   "metadata": {},
   "outputs": [
    {
     "name": "stdout",
     "output_type": "stream",
     "text": [
      "[10 20 30 40 50]\n"
     ]
    }
   ],
   "source": [
    "integer = np.array([10,20,30,40,50])\n",
    "print(integer)"
   ]
  },
  {
   "cell_type": "code",
   "execution_count": 8,
   "id": "b3a0f5c0",
   "metadata": {},
   "outputs": [
    {
     "data": {
      "text/plain": [
       "30"
      ]
     },
     "execution_count": 8,
     "metadata": {},
     "output_type": "execute_result"
    }
   ],
   "source": [
    "integer[2]"
   ]
  },
  {
   "cell_type": "code",
   "execution_count": 10,
   "id": "6ec373f7",
   "metadata": {},
   "outputs": [
    {
     "data": {
      "text/plain": [
       "20"
      ]
     },
     "execution_count": 10,
     "metadata": {},
     "output_type": "execute_result"
    }
   ],
   "source": [
    "integer[0] = 20\n",
    "integer[0]"
   ]
  },
  {
   "cell_type": "code",
   "execution_count": 11,
   "id": "f1943014",
   "metadata": {},
   "outputs": [
    {
     "data": {
      "text/plain": [
       "29"
      ]
     },
     "execution_count": 11,
     "metadata": {},
     "output_type": "execute_result"
    }
   ],
   "source": [
    "#Decimal number will be turancating the number because\n",
    "#numpy array store same data type elements\n",
    "\n",
    "\n",
    "integer[0] = 29.5\n",
    "integer[0]"
   ]
  },
  {
   "cell_type": "code",
   "execution_count": 12,
   "id": "e88e12ab",
   "metadata": {},
   "outputs": [
    {
     "data": {
      "text/plain": [
       "dtype('int32')"
      ]
     },
     "execution_count": 12,
     "metadata": {},
     "output_type": "execute_result"
    }
   ],
   "source": [
    "#we can check data type of numpy array like this\n",
    "\n",
    "integer.dtype"
   ]
  },
  {
   "cell_type": "code",
   "execution_count": 16,
   "id": "93ad81e9",
   "metadata": {},
   "outputs": [
    {
     "data": {
      "text/plain": [
       "array([29, 20, 30, 40, 50], dtype=int8)"
      ]
     },
     "execution_count": 16,
     "metadata": {},
     "output_type": "execute_result"
    }
   ],
   "source": [
    "smallInt = np.array(integer,dtype = np.int8)\n",
    "smallInt\n"
   ]
  },
  {
   "cell_type": "code",
   "execution_count": 18,
   "id": "685438cc",
   "metadata": {},
   "outputs": [
    {
     "data": {
      "text/plain": [
       "dtype('int8')"
      ]
     },
     "execution_count": 18,
     "metadata": {},
     "output_type": "execute_result"
    }
   ],
   "source": [
    "smallInt.dtype\n"
   ]
  },
  {
   "cell_type": "code",
   "execution_count": 22,
   "id": "f274295d",
   "metadata": {},
   "outputs": [
    {
     "name": "stdout",
     "output_type": "stream",
     "text": [
      "Intger array size: 20\n"
     ]
    }
   ],
   "source": [
    "#For checking array size \n",
    "\n",
    "print(\"Intger array size: {}\".format(integer.nbytes))\n",
    "print(\"Small array size: {}\".format(integer.nbytes))"
   ]
  }
 ],
 "metadata": {
  "kernelspec": {
   "display_name": "Python 3",
   "language": "python",
   "name": "python3"
  },
  "language_info": {
   "codemirror_mode": {
    "name": "ipython",
    "version": 3
   },
   "file_extension": ".py",
   "mimetype": "text/x-python",
   "name": "python",
   "nbconvert_exporter": "python",
   "pygments_lexer": "ipython3",
   "version": "3.8.8"
  }
 },
 "nbformat": 4,
 "nbformat_minor": 5
}
